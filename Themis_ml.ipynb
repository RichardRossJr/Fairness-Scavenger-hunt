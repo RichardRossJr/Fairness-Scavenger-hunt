{
  "nbformat": 4,
  "nbformat_minor": 0,
  "metadata": {
    "colab": {
      "name": "Themis-ml.ipynb",
      "provenance": [],
      "collapsed_sections": [],
      "include_colab_link": true
    },
    "kernelspec": {
      "name": "python3",
      "display_name": "Python 3"
    },
    "language_info": {
      "name": "python"
    }
  },
  "cells": [
    {
      "cell_type": "markdown",
      "metadata": {
        "id": "view-in-github",
        "colab_type": "text"
      },
      "source": [
        "<a href=\"https://colab.research.google.com/github/RichardRossJr/hello-world/blob/C%2B%2B-additions/Themis_ml.ipynb\" target=\"_parent\"><img src=\"https://colab.research.google.com/assets/colab-badge.svg\" alt=\"Open In Colab\"/></a>"
      ]
    },
    {
      "cell_type": "markdown",
      "metadata": {
        "id": "zCVlJo-lHbP8"
      },
      "source": [
        "# **Themis-ml**\n",
        "\n",
        "[**Themis-ml**](https://themis-ml.readthedocs.io/en/latest/index.html) is an open source Python machine learning library, and it builds on the **sklearn API, pandas, and sklearn.**  \n",
        "\n",
        "The purpose of themis-ml is **measuring and reducing potential discrimination in machine learning systems**.\n",
        "\n",
        "It provides a **fairness-aware machine learning interface (FMLI**), which defines an interface that incorporates discrimination discovery and fairness-aware methods into a typical ML workflow, that gives users with access to formalized definitions of fairness and discrimination described in the the machine learning and statistics literature.\n",
        "\n",
        "\n",
        "\n"
      ]
    },
    {
      "cell_type": "markdown",
      "metadata": {
        "id": "yRnp5XSdy0v5"
      },
      "source": [
        "## **Features**\n",
        "\n",
        "Themis-ml provides some features to measure and reduce potential discrimination.\n",
        "\n",
        "\n",
        "\n",
        "### **1.   Measuring Discrimination**\n",
        "\n",
        "\n",
        "*    Mean difference\n",
        "*   Normalized mean difference\n",
        "\n",
        "\n",
        "### **2.   Mitigating Discrimination**\n",
        "\n",
        "\n",
        "*   Preprocessing\n",
        "\n",
        "> Relabelling (Massaging)\n",
        "\n",
        "\n",
        "*   Model Estimation\n",
        "\n",
        "> Additive Counterfactually Fair Estimator (Model)\n",
        "\n",
        "\n",
        "*   Postprocessing\n",
        "\n",
        "\n",
        ">  Reject Option Classification\n",
        "\n",
        "\n",
        "\n",
        "\n",
        "\n",
        "\n",
        "\n",
        "\n",
        "\n"
      ]
    },
    {
      "cell_type": "markdown",
      "metadata": {
        "id": "8NtVO6t9BnVd"
      },
      "source": [
        "### **Datasets**\n",
        "There are two datasets provided in themis-ml. Here is a [link](https://themis-ml.readthedocs.io/en/latest/themis_ml.html#).\n",
        "\n",
        "\n",
        "1.   German Credit Dataset\n",
        "2.   Census Income Data from 1994 - 1995\n",
        "\n"
      ]
    },
    {
      "cell_type": "markdown",
      "metadata": {
        "id": "P2lhS3g2IlN0"
      },
      "source": [
        "## **Install themis-ml**\n",
        "\n",
        "*Currently only **Python 2.7** and **3.6** are supported.*\n",
        "\n",
        "There are two way to install themis-ml.\n",
        "\n",
        "## conda\n",
        "`conda install -c cosmicbboy themis-ml`\n",
        "\n",
        "\n",
        "## pip\n",
        "Before installing with pip, we need to install these three packages with either pip or conda.\n",
        "\n",
        "1.   **scikit-learn** (Version requirement:>= 0.19.1)\n",
        "2.   **numpy** (Version requirement:>= 1.9.0)\n",
        "3.   **pandas** (Version requirement:>= 0.22.0)\n",
        "\n",
        "\n",
        "\n",
        "`pip install themis-ml`"
      ]
    },
    {
      "cell_type": "markdown",
      "metadata": {
        "id": "SBifhx9xN0FS"
      },
      "source": [
        "Here, we install themis-ml with pip."
      ]
    },
    {
      "cell_type": "code",
      "metadata": {
        "id": "T7oYEnU_KSEr"
      },
      "source": [
        "#installing scikit-learn, numpy, and pandas first\n",
        "import pandas as pd\n",
        "import numpy as np\n",
        "import sklearn"
      ],
      "execution_count": null,
      "outputs": []
    },
    {
      "cell_type": "code",
      "metadata": {
        "colab": {
          "base_uri": "https://localhost:8080/"
        },
        "id": "lGr7DYKiJ_Sl",
        "outputId": "90a63750-de09-4db2-cb78-db0d6a1a5efd"
      },
      "source": [
        "#pip\n",
        "%pip install themis-ml\n"
      ],
      "execution_count": null,
      "outputs": [
        {
          "output_type": "stream",
          "text": [
            "Collecting themis-ml\n",
            "\u001b[?25l  Downloading https://files.pythonhosted.org/packages/99/31/e7c3da4d3283397d1001128b10846b7a5418814cccf48d1147a15e7d27a3/themis-ml-0.0.4.tar.gz (9.0MB)\n",
            "\u001b[K     |████████████████████████████████| 9.0MB 5.0MB/s \n",
            "\u001b[?25hRequirement already satisfied: scikit-learn>=0.19.1 in /usr/local/lib/python3.7/dist-packages (from themis-ml) (0.22.2.post1)\n",
            "Requirement already satisfied: numpy>=1.9.0 in /usr/local/lib/python3.7/dist-packages (from themis-ml) (1.19.5)\n",
            "Requirement already satisfied: scipy>=0.19.1 in /usr/local/lib/python3.7/dist-packages (from themis-ml) (1.4.1)\n",
            "Requirement already satisfied: pandas>=0.22.0 in /usr/local/lib/python3.7/dist-packages (from themis-ml) (1.1.5)\n",
            "Collecting pathlib2\n",
            "  Downloading https://files.pythonhosted.org/packages/e9/45/9c82d3666af4ef9f221cbb954e1d77ddbb513faf552aea6df5f37f1a4859/pathlib2-2.3.5-py2.py3-none-any.whl\n",
            "Requirement already satisfied: joblib>=0.11 in /usr/local/lib/python3.7/dist-packages (from scikit-learn>=0.19.1->themis-ml) (1.0.1)\n",
            "Requirement already satisfied: python-dateutil>=2.7.3 in /usr/local/lib/python3.7/dist-packages (from pandas>=0.22.0->themis-ml) (2.8.1)\n",
            "Requirement already satisfied: pytz>=2017.2 in /usr/local/lib/python3.7/dist-packages (from pandas>=0.22.0->themis-ml) (2018.9)\n",
            "Requirement already satisfied: six in /usr/local/lib/python3.7/dist-packages (from pathlib2->themis-ml) (1.15.0)\n",
            "Building wheels for collected packages: themis-ml\n",
            "  Building wheel for themis-ml (setup.py) ... \u001b[?25l\u001b[?25hdone\n",
            "  Created wheel for themis-ml: filename=themis_ml-0.0.4-cp37-none-any.whl size=9829352 sha256=a67ee176c6ffc2157b39c930b887aa0843e197b1d083fdd476bbf57254f91c0c\n",
            "  Stored in directory: /root/.cache/pip/wheels/ef/39/e6/f455d5d6d97cbbe365a6b5a76d5c91b3f282962fef5da53173\n",
            "Successfully built themis-ml\n",
            "Installing collected packages: pathlib2, themis-ml\n",
            "Successfully installed pathlib2-2.3.5 themis-ml-0.0.4\n"
          ],
          "name": "stdout"
        }
      ]
    },
    {
      "cell_type": "markdown",
      "metadata": {
        "id": "TxFxBsVvQxF1"
      },
      "source": [
        "# **Example**\n",
        "\n",
        "Example from themis-ml Github website: https://github.com/cosmicBboy/themis-ml/blob/master/examples/tutorial_fat*_2018.ipynb\n",
        "\n",
        "\n",
        "Author: Niels Bantilan\n"
      ]
    },
    {
      "cell_type": "markdown",
      "metadata": {
        "id": "lzEpsAEjT7Zt"
      },
      "source": [
        "Using the German Credit Dataset to demonstrate how to **measure potential discrimination** with the target variable credit risk and two sensitive attributes sex and foreigner.\n",
        "\n",
        "\n"
      ]
    },
    {
      "cell_type": "markdown",
      "metadata": {
        "id": "R1TNou4ITyNb"
      },
      "source": [
        "# **Load Datasets**\n",
        "\n",
        "[German Credit Dataset](https://archive.ics.uci.edu/ml/datasets/statlog+%28german+credit+data%29)"
      ]
    },
    {
      "cell_type": "code",
      "metadata": {
        "colab": {
          "base_uri": "https://localhost:8080/",
          "height": 218
        },
        "id": "VXrYLhdKUGP5",
        "outputId": "1656077b-901d-47ae-bb81-ff4ae54c8989"
      },
      "source": [
        "from themis_ml.datasets import german_credit\n",
        "\n",
        "raw_data = german_credit(raw=True)\n",
        "raw_data.head()"
      ],
      "execution_count": null,
      "outputs": [
        {
          "output_type": "execute_result",
          "data": {
            "text/html": [
              "<div>\n",
              "<style scoped>\n",
              "    .dataframe tbody tr th:only-of-type {\n",
              "        vertical-align: middle;\n",
              "    }\n",
              "\n",
              "    .dataframe tbody tr th {\n",
              "        vertical-align: top;\n",
              "    }\n",
              "\n",
              "    .dataframe thead th {\n",
              "        text-align: right;\n",
              "    }\n",
              "</style>\n",
              "<table border=\"1\" class=\"dataframe\">\n",
              "  <thead>\n",
              "    <tr style=\"text-align: right;\">\n",
              "      <th></th>\n",
              "      <th>status_of_existing_checking_account</th>\n",
              "      <th>duration_in_month</th>\n",
              "      <th>credit_history</th>\n",
              "      <th>purpose</th>\n",
              "      <th>credit_amount</th>\n",
              "      <th>savings_account/bonds</th>\n",
              "      <th>present_employment_since</th>\n",
              "      <th>installment_rate_in_percentage_of_disposable_income</th>\n",
              "      <th>personal_status_and_sex</th>\n",
              "      <th>other_debtors/guarantors</th>\n",
              "      <th>present_residence_since</th>\n",
              "      <th>property</th>\n",
              "      <th>age_in_years</th>\n",
              "      <th>other_installment_plans</th>\n",
              "      <th>housing</th>\n",
              "      <th>number_of_existing_credits_at_this_bank</th>\n",
              "      <th>job</th>\n",
              "      <th>number_of_people_being_liable_to_provide_maintenance_for</th>\n",
              "      <th>telephone</th>\n",
              "      <th>foreign_worker</th>\n",
              "      <th>credit_risk</th>\n",
              "    </tr>\n",
              "  </thead>\n",
              "  <tbody>\n",
              "    <tr>\n",
              "      <th>0</th>\n",
              "      <td>1</td>\n",
              "      <td>6</td>\n",
              "      <td>critical_account/other_credits_existing_not_at...</td>\n",
              "      <td>radio/television</td>\n",
              "      <td>1169</td>\n",
              "      <td>0</td>\n",
              "      <td>4</td>\n",
              "      <td>4</td>\n",
              "      <td>male_single</td>\n",
              "      <td>none</td>\n",
              "      <td>4</td>\n",
              "      <td>real_estate</td>\n",
              "      <td>67</td>\n",
              "      <td>none</td>\n",
              "      <td>own</td>\n",
              "      <td>2</td>\n",
              "      <td>2</td>\n",
              "      <td>1</td>\n",
              "      <td>1</td>\n",
              "      <td>1</td>\n",
              "      <td>1</td>\n",
              "    </tr>\n",
              "    <tr>\n",
              "      <th>1</th>\n",
              "      <td>2</td>\n",
              "      <td>48</td>\n",
              "      <td>existing_credits_paid_back_duly_till_now</td>\n",
              "      <td>radio/television</td>\n",
              "      <td>5951</td>\n",
              "      <td>1</td>\n",
              "      <td>2</td>\n",
              "      <td>2</td>\n",
              "      <td>female_divorced/separated/married</td>\n",
              "      <td>none</td>\n",
              "      <td>2</td>\n",
              "      <td>real_estate</td>\n",
              "      <td>22</td>\n",
              "      <td>none</td>\n",
              "      <td>own</td>\n",
              "      <td>1</td>\n",
              "      <td>2</td>\n",
              "      <td>1</td>\n",
              "      <td>0</td>\n",
              "      <td>1</td>\n",
              "      <td>0</td>\n",
              "    </tr>\n",
              "    <tr>\n",
              "      <th>2</th>\n",
              "      <td>0</td>\n",
              "      <td>12</td>\n",
              "      <td>critical_account/other_credits_existing_not_at...</td>\n",
              "      <td>education</td>\n",
              "      <td>2096</td>\n",
              "      <td>1</td>\n",
              "      <td>3</td>\n",
              "      <td>2</td>\n",
              "      <td>male_single</td>\n",
              "      <td>none</td>\n",
              "      <td>3</td>\n",
              "      <td>real_estate</td>\n",
              "      <td>49</td>\n",
              "      <td>none</td>\n",
              "      <td>own</td>\n",
              "      <td>1</td>\n",
              "      <td>1</td>\n",
              "      <td>2</td>\n",
              "      <td>0</td>\n",
              "      <td>1</td>\n",
              "      <td>1</td>\n",
              "    </tr>\n",
              "    <tr>\n",
              "      <th>3</th>\n",
              "      <td>1</td>\n",
              "      <td>42</td>\n",
              "      <td>existing_credits_paid_back_duly_till_now</td>\n",
              "      <td>furniture/equipment</td>\n",
              "      <td>7882</td>\n",
              "      <td>1</td>\n",
              "      <td>3</td>\n",
              "      <td>2</td>\n",
              "      <td>male_single</td>\n",
              "      <td>guarantor</td>\n",
              "      <td>4</td>\n",
              "      <td>building_society_savings_agreement/life_insurance</td>\n",
              "      <td>45</td>\n",
              "      <td>none</td>\n",
              "      <td>for free</td>\n",
              "      <td>1</td>\n",
              "      <td>2</td>\n",
              "      <td>2</td>\n",
              "      <td>0</td>\n",
              "      <td>1</td>\n",
              "      <td>1</td>\n",
              "    </tr>\n",
              "    <tr>\n",
              "      <th>4</th>\n",
              "      <td>1</td>\n",
              "      <td>24</td>\n",
              "      <td>delay_in_paying_off_in_the_past</td>\n",
              "      <td>car_(new)</td>\n",
              "      <td>4870</td>\n",
              "      <td>1</td>\n",
              "      <td>2</td>\n",
              "      <td>3</td>\n",
              "      <td>male_single</td>\n",
              "      <td>none</td>\n",
              "      <td>4</td>\n",
              "      <td>unknown/no_property</td>\n",
              "      <td>53</td>\n",
              "      <td>none</td>\n",
              "      <td>for free</td>\n",
              "      <td>2</td>\n",
              "      <td>2</td>\n",
              "      <td>2</td>\n",
              "      <td>0</td>\n",
              "      <td>1</td>\n",
              "      <td>0</td>\n",
              "    </tr>\n",
              "  </tbody>\n",
              "</table>\n",
              "</div>"
            ],
            "text/plain": [
              "   status_of_existing_checking_account  ...  credit_risk\n",
              "0                                    1  ...            1\n",
              "1                                    2  ...            0\n",
              "2                                    0  ...            1\n",
              "3                                    1  ...            1\n",
              "4                                    1  ...            0\n",
              "\n",
              "[5 rows x 21 columns]"
            ]
          },
          "metadata": {
            "tags": []
          },
          "execution_count": 17
        }
      ]
    },
    {
      "cell_type": "markdown",
      "metadata": {
        "id": "rZXfFck6Wpk8"
      },
      "source": [
        "## **Measuring Potential Discrimination**\n",
        "In this example, we use **mean difference** to measure potential discrimination with a binary target variable credit risk and two protected classes (sensitive attributes) sex and immigration status (foriegn worker).\n",
        "\n",
        "\n",
        "\n",
        "\n",
        "> *Mean difference measures the absolute difference between the mean value in two different groups. In other words, it gives you an idea of how much difference there is between the averages of the experimental group and control groups.\n",
        "\n",
        "Check out the website about what is the mean difference: https://www.statisticshowto.com/mean-difference/\n",
        "\n"
      ]
    },
    {
      "cell_type": "code",
      "metadata": {
        "colab": {
          "base_uri": "https://localhost:8080/"
        },
        "id": "9yIJ8sdj9x25",
        "outputId": "4f883798-e294-488e-e1a7-a931d9377d3f"
      },
      "source": [
        "# target variable\n",
        "# values: 1 = low credit risk, 0 = high credit risk\n",
        "credit_risk = raw_data[\"credit_risk\"]\n",
        "\n",
        "# display frequency counts of each value\n",
        "credit_risk.value_counts()"
      ],
      "execution_count": null,
      "outputs": [
        {
          "output_type": "execute_result",
          "data": {
            "text/plain": [
              "1    700\n",
              "0    300\n",
              "Name: credit_risk, dtype: int64"
            ]
          },
          "metadata": {
            "tags": []
          },
          "execution_count": 18
        }
      ]
    },
    {
      "cell_type": "code",
      "metadata": {
        "colab": {
          "base_uri": "https://localhost:8080/"
        },
        "id": "WJuiOdQ792vR",
        "outputId": "161a917c-69c5-4f60-d6c5-e655c60f14c2"
      },
      "source": [
        "# get sex of the individual from the \"personal_status_and_sex\" column.\n",
        "# values: 1 = female, 0 = male\n",
        "sex = raw_data[\"personal_status_and_sex\"].map(\n",
        "    lambda x: {\"male\": 0, \"female\": 1}[x.split(\"_\")[0]])\n",
        "\n",
        "# display frequency counts of each value\n",
        "sex.value_counts()"
      ],
      "execution_count": null,
      "outputs": [
        {
          "output_type": "execute_result",
          "data": {
            "text/plain": [
              "0    690\n",
              "1    310\n",
              "Name: personal_status_and_sex, dtype: int64"
            ]
          },
          "metadata": {
            "tags": []
          },
          "execution_count": 19
        }
      ]
    },
    {
      "cell_type": "code",
      "metadata": {
        "colab": {
          "base_uri": "https://localhost:8080/"
        },
        "id": "GLK7vNYU95XX",
        "outputId": "83483217-d99d-4f57-ace6-153a08758f58"
      },
      "source": [
        "# get foreign worker status: 1 = yes, 0 = no\n",
        "foreign = raw_data[\"foreign_worker\"]\n",
        "\n",
        "# display frequency counts of each value\n",
        "foreign.value_counts()"
      ],
      "execution_count": null,
      "outputs": [
        {
          "output_type": "execute_result",
          "data": {
            "text/plain": [
              "1    963\n",
              "0     37\n",
              "Name: foreign_worker, dtype: int64"
            ]
          },
          "metadata": {
            "tags": []
          },
          "execution_count": 20
        }
      ]
    },
    {
      "cell_type": "markdown",
      "metadata": {
        "id": "OTYf-kIlWU_K"
      },
      "source": [
        "## **Mean Difference**\n",
        "\n",
        "**themis_ml.metrics.mean_difference(y, s)** [[source](https://themis-ml.readthedocs.io/en/latest/themis_ml.html#themis_ml.metrics.mean_difference): `def mean_difference(y, s)`]\n",
        "\n",
        "It is for computing the mean difference in y (target variable) with respect to protected class s (sensitive attribute).\n",
        "\n",
        "\n"
      ]
    },
    {
      "cell_type": "markdown",
      "metadata": {
        "id": "5WlwQc_WW9M0"
      },
      "source": [
        "import mean difference first, use below code.\n",
        "\n",
        "`from themis_ml.metrics import mean_difference`"
      ]
    },
    {
      "cell_type": "code",
      "metadata": {
        "colab": {
          "base_uri": "https://localhost:8080/"
        },
        "id": "aVU8hpWe99Zd",
        "outputId": "a04ec19c-850d-4036-d184-d61c4df7c59a"
      },
      "source": [
        "from themis_ml.metrics import mean_difference\n",
        "\n",
        "print(\"Mean difference scores:\")\n",
        "print(\"protected class = sex: %0.03f, 95%% CI [%0.03f-%0.03f]\" %\n",
        "      mean_difference(credit_risk, sex))\n",
        "# 0.0748013090229\n",
        "print(\"protected class = foreign: %0.03f, 95%% CI [%0.03f-%0.03f]\" %\n",
        "      mean_difference(credit_risk, foreign))\n",
        "# 0.199264685246"
      ],
      "execution_count": null,
      "outputs": [
        {
          "output_type": "stream",
          "text": [
            "Mean difference scores:\n",
            "protected class = sex: 0.075, 95% CI [0.013-0.136]\n",
            "protected class = foreign: 0.199, 95% CI [0.049-0.349]\n"
          ],
          "name": "stdout"
        }
      ]
    },
    {
      "cell_type": "markdown",
      "metadata": {
        "id": "Fonk0QbyYFRW"
      },
      "source": [
        "## **Normalized Mean Difference**\n",
        "\n",
        "themis_ml.metrics.normalized_mean_difference(y, s, norm_y=None, ci=0.975)\n",
        "[[source](https://themis-ml.readthedocs.io/en/latest/themis_ml.html#themis_ml.metrics.normalized_mean_difference): `def normalized_mean_difference(y, s, norm_y=None, ci=DEFAULT_CI)]`\n",
        "\n",
        "It is to Compute normalized mean difference in y (target variable) with respect to s (sensitive attribute).\n",
        "\n",
        "***How to calculate Normalized Mean Difference***\n",
        "\n",
        "*   normalized_mean_difference = mean_difference / d_max\n",
        "*   d_max = min( (p(y+) / p(s=0)), ((p(y-) / p(s=1)) )\n",
        "\n",
        "\n",
        "Same the mean difference score, except the score takes into account the maximum possible discrimination at a given positive outcome rate. Is only defined when y and s are both binary variables.\n"
      ]
    },
    {
      "cell_type": "markdown",
      "metadata": {
        "id": "j4o1N4N_ZCez"
      },
      "source": [
        "import normalized mean difference first, use below code.\n",
        "\n",
        "`from themis_ml.metrics import normalized_mean_difference`\n",
        "\n",
        "\n"
      ]
    },
    {
      "cell_type": "code",
      "metadata": {
        "colab": {
          "base_uri": "https://localhost:8080/"
        },
        "id": "WuChGu4jV2TD",
        "outputId": "a895219a-a2e3-4602-d719-b3b916e7c778"
      },
      "source": [
        "from themis_ml.metrics import normalized_mean_difference\n",
        "\n",
        "print(\"\\nNormalized mean difference scores:\")\n",
        "# normalized mean difference\n",
        "print(\"protected class = sex: %s\" %\n",
        "      normalized_mean_difference(credit_risk, sex)[0])\n",
        "# 0.0772946859903\n",
        "print(\"protected class = foreign: %s\" %\n",
        "      normalized_mean_difference(credit_risk, foreign)[0])\n",
        "# 0.63963963964"
      ],
      "execution_count": null,
      "outputs": [
        {
          "output_type": "stream",
          "text": [
            "\n",
            "Normalized mean difference scores:\n",
            "protected class = sex: 0.07729468599033808\n",
            "protected class = foreign: 0.6396396396396394\n"
          ],
          "name": "stdout"
        }
      ]
    },
    {
      "cell_type": "code",
      "metadata": {
        "colab": {
          "base_uri": "https://localhost:8080/"
        },
        "id": "2fD-qfyBsQIQ",
        "outputId": "768d2633-b881-401a-fdb9-22d561a964ac"
      },
      "source": [
        "print(\"Mean difference scores:\")\n",
        "print(\"protected class = sex: %0.03f, 95%% CI [%0.03f-%0.03f]\" %\n",
        "      mean_difference(credit_risk, sex))\n",
        "# 0.0748013090229\n",
        "print(\"protected class = foreign: %0.03f, 95%% CI [%0.03f-%0.03f]\" %\n",
        "      mean_difference(credit_risk, foreign))\n",
        "# 0.199264685246\n",
        "\n",
        "print(\"\\nNormalized mean difference scores:\")\n",
        "# normalized mean difference\n",
        "print(\"protected class = sex: %s\" %\n",
        "      normalized_mean_difference(credit_risk, sex)[0])\n",
        "# 0.0772946859903\n",
        "print(\"protected class = foreign: %s\" %\n",
        "      normalized_mean_difference(credit_risk, foreign)[0])\n",
        "# 0.63963963964"
      ],
      "execution_count": null,
      "outputs": [
        {
          "output_type": "stream",
          "text": [
            "Mean difference scores:\n",
            "protected class = sex: 0.075, 95% CI [0.013-0.136]\n",
            "protected class = foreign: 0.199, 95% CI [0.049-0.349]\n",
            "\n",
            "Normalized mean difference scores:\n",
            "protected class = sex: 0.07729468599033808\n",
            "protected class = foreign: 0.6396396396396394\n"
          ],
          "name": "stdout"
        }
      ]
    },
    {
      "cell_type": "markdown",
      "metadata": {
        "id": "dX8pDTGX-SbE"
      },
      "source": [
        "The mean differences above show that men and citizen workers are more possible to have low credit risks than women and foreign workers.\n",
        "\n",
        "The themis-ml metrics functions compute confidence intervals by default, since it's important to come up with confidence bounds for our estimate of potential discrimination."
      ]
    },
    {
      "cell_type": "markdown",
      "metadata": {
        "id": "yBWV3yhAHhA1"
      },
      "source": [
        "# **Mitigating Discrimination**\n",
        "\n",
        "These two classifications can helps to reduce bias and discrimination."
      ]
    },
    {
      "cell_type": "markdown",
      "metadata": {
        "id": "XPP9zCOQD1wl"
      },
      "source": [
        "# **Reject-Option Classification**\n",
        "\n",
        "**Reject-Option Classification (ROC)** works by training an initial classifier on your dataset, generating predicted probabilities on the test set, and then computing the proximity of each prediction to the decision boundary learned by the classifier.\n",
        "\n"
      ]
    },
    {
      "cell_type": "markdown",
      "metadata": {
        "id": "CEyXoyNylx88"
      },
      "source": [
        "SingleROClassifier( BaseEstimator, ClassifierMixin, MetaEstimatorMixin):\n",
        "\n",
        "[Source:https://github.com/cosmicBboy/themis-ml/blob/master/themis_ml/postprocessing/reject_option_classification.py]\n",
        "\n",
        "[example format for using in the code: `SingleROClassifi (estimator=logistic_clf)`]"
      ]
    },
    {
      "cell_type": "markdown",
      "metadata": {
        "id": "Nfgnppt5lOMU"
      },
      "source": [
        "Importing Reject-Option Classification, using bewlow code:\n",
        "\n",
        "\n",
        "`from themis_ml.postprocessing.reject_option_classification import \\SingleROClassifier`"
      ]
    },
    {
      "cell_type": "markdown",
      "metadata": {
        "id": "22G4_89mHQud"
      },
      "source": [
        "# **Additive Counterfactually Fair Model**\n",
        "**Additive Counterfactually Fair Model** is using the protected class variable (Senstive attribute) to compute the residuals for each input variable and uses those residuals to learn a function that maps from inputs to the target variable.\n",
        "\n",
        "\n",
        "class FairnessAwareMetaEstimator( BaseEstimator, ClassifierMixin, MetaEstimatorMixin):\n",
        "\n",
        "[Source:https://github.com/cosmicBboy/themis-ml/blob/master/themis_ml/linear_model/counterfactually_fair_models.py]\n",
        "\n",
        "\n",
        "[example format for using in the code: `LinearACFClassifier( target_estimator=logistic_clf, binary_residual_type=\"absolute\")`]\n",
        "\n",
        "\n",
        "\n"
      ]
    },
    {
      "cell_type": "markdown",
      "metadata": {
        "id": "09VVnKRZv7sL"
      },
      "source": [
        "Importing Reject-Option Classification, using bewlow code:\n",
        "\n",
        "\n",
        "`from themis_ml.linear_model import LinearACFClassifier`"
      ]
    },
    {
      "cell_type": "markdown",
      "metadata": {
        "id": "-jpFHpyO193x"
      },
      "source": [
        "Here is an example, De-biasing Experiment, showing that Reject-Option Classification and Additive Counterfactually Fair Model can reduce discrimination. Also, how to interpret the result between base classifier(contain all variable) and ROC classifier and between base classifier(contain all variable) and ACF classifier."
      ]
    },
    {
      "cell_type": "markdown",
      "metadata": {
        "id": "2an3k0fFJ7SS"
      },
      "source": [
        "## **De-biasing Experiment**\n",
        "Author: Niels Bantilan.\n",
        "\n",
        "In this experiment, we specify three conditions, all using LogisticRegression as the classifier to keep things simple:\n",
        "\n",
        "1. Baseline ($B$): classifier trained on all available input variables, including protected attributes.\n",
        "2. Remove Protected Attribute ($RPA$): classifier where input variables do not contain protected attributes. This is the naive fairness-aware approach.\n",
        "3. Reject-Option Classification ($ROC$): classifier using the reject-option classification method.\n",
        "4. Additive Counterfactually Fair Model ($ACF$): classifier using the additive counterfactually fair method.\n",
        "\n",
        "\n",
        "The details about the de-biasing experiment: https://github.com/cosmicBboy/themis-ml/blob/master/examples/tutorial_fat*_2018.ipynb"
      ]
    },
    {
      "cell_type": "markdown",
      "metadata": {
        "id": "9GFT6SqHxiV3"
      },
      "source": [
        "Target variable: credit risk\n",
        "\n",
        "\n",
        "Two protected classes (sensitive attributes): sex and immigration status (foriegn worker).\n",
        "\n",
        "mean diff: mean different \n",
        "\n",
        "auc: Area under the curve (in ROC curve)"
      ]
    },
    {
      "cell_type": "markdown",
      "metadata": {
        "id": "e4dOCmRcdd6g"
      },
      "source": [
        "### **The De-biasing Experiment Result**"
      ]
    },
    {
      "cell_type": "markdown",
      "metadata": {
        "id": "Ji66GwbcdPoB"
      },
      "source": [
        "![picture.png](data:image/png;base64,iVBORw0KGgoAAAANSUhEUgAAAwkAAAF3CAYAAADuLAcUAAAABHNCSVQICAgIfAhkiAAAAAlwSFlzAAALEgAACxIB0t1+/AAAIABJREFUeJzt3Xl8FeX5///3lYQlYd8UWcNiVkKUKBYVPwGhUkVsRa2IVVttQUvVYm3r8qn6K9YF/NqKlX6sClpRqGCrVYuCGouiVlSQXQFZXKKyGLYQSXL//pg5eCacJCchyTkhr+fjcR7Jmbln5pr7TE7mmvuee8w5JwAAAAAISYh1AAAAAADiC0kCAAAAgACSBAAAAAABJAkAAAAAAkgSAAAAAASQJAAAAAAIIElAvTCzy8zMVfIaUcN1XeEv16O+4o0VM/u1mb1vZhbrWBqKmT1uZuvD3vf3P9+LK5S72cy2mlmZmS31p3Uzs3+Z2U5/mUlmdp6ZfWZmrRp6XypT2T5FKPe4mW2qZN4Ifx35/vsEM7s19D7Ceqqs0whl+vrrS63h7lXLzC4ws8/NLLmu112DGLqbWbGZ5UVZ/nG/zjZF+ns0s9+HvsNqEUtHv66Pq8EySf72bq7p9gCgLiTFOgAc8c6X9EmFaatruI5nJK2U9GWdRBQnzKyjpBsk/dg17QeWbJU0RFL4CezJkn4v6U5J/5K0y591q6RTJV0m6QtJH8s7Lm6RNNlf5kiVIG8/JamgwrxbJLWpZvmKZfr60wokbTrs6Hxm1kzSHyTd5Zwrrqv11pRz7lMze0TS3ZJOj3KxvZJ6STpN0muhiX7S8CNJu1V9PUfSUV5db5K0LJoFnHOlZjZE3t8HADQ4kgTUt2XOufXVF6ucc+4rSV9VVcb/J97MOffN4Wyrgf1U3knJs7EOJJaccyWS3qowOdP/OcM5t6XC9Pedc8+EFzazv0r6XzO7q5EdA3XCObehLsrUkXMldZc0s4G2V5X/k7TczI53zr0fRflt8k7kf6SwJEHS/0jqKelxSZfUdZAVmVkL51yJc67i3wUANBi6GyFmzCzZzP5kZqvMbK/fPeFZM0uvUO6Q7kZm9omZzTKzn5rZOknfSDojrJvFFWY2xV/n12b2jJl1ixDDRDP7wMz2m9lXZvZXM2tfocxkM1vjd13YaWbvmNmYsPnfM7M3zazIzPaY2VozuymKKrhc0lznXHnYukLx/9TM7jKzL8xst5k95tdXmpm95G9nfaTuLGZ2vN8l52s/5tfN7JQKZU4ys/l+PRab2Tq/vlpWKPe6mRWY2XfN6xa1z8xWhu9/VfzllplZiR/vTyOUCXSNMbPXJT3kz94c6nLhd/M4VdIw+7brWuiYmCupk6TvRxHTNWb2lpnt8OtoiZmNqiSmao8jM2tlZn/x17fHzP4p6ZBj7XCYWZKkA/7bW8L2/2Z/fqArUSXrOFjGvC5/C/1Zr4at71Qz+7eZvRNh+WPNrNzMrqgm3CskveCcK6qwfDT1HupidWqF6RG7HJrZBP+4LPbXW2Bm3wnNd859IGmNvIQ8Wo9JOq/C38Il8lpcIl7Vr+p7xMz6S/rILzozrK4PHu9+3N8P/a1I+plV0t3I//t+xt/fYvO+b34TNr+230cAEECSgPqW6P+zC70Sw+YlS2ol6XZJZ0r6uf/+TTM7Kop1j5R0tbxm/FGSVoXNu1lSb0k/lvRLSUMl/S18YTObJmm6pBcljZH0G0mjJb1gZgl+mUsl3SVpth/jeElPyzshlZkdK6871EeSfijpHEl/lNS6qsDNrJ+kYyUtrqTIzZK6yDs5uVXSRZJm+Nt+VtIP/P191MwywtZ7oqQ3JLWTd7J2nqQiSS9bsD90b3ndHn4u6XuS7pN3IvWQDpUm6f9JmibvKvEXkuabWZ9q9nGApOfkddH4ob9Pv5J3VbYqP5PXRUTyPpch8j67If4+v+P/PkR+FzTn3BeSPpR3HFQnVdIjki6QdKGk5fI+85ERylZ7HMmrsx9LmiqvfjbIu+JcZ5xzpfISJEl6WN/uf22v1v9X3t+O5B0DofUtl3ecnWBmgyos8zN5n+WTla3UvHsQTlPk4zpV0dd7tczsj5L+Iu94OF/e38rr8q74h/uPojsuQp6S1FzesRfap/PkJQ+R4qjue2SrH58kTdG3db0gbDWZ8v7G/ijpDB3anSy0rSGSlsg7Jq+RdJa/THd/fq2+jwAgIuccL151/pLXZ9xFeL1exTKJ8pKEfZJ+ETb9Cn/ZHmHTPpG0R9JRFdbR3y/7coXpv/WnH+W/7yepTNKNFcr9j19utP/+L5L+W0XMF/rlW9Wwfsb7y/WpJP6XKkx/1p9+Ydi0TpLKJd0UNu01efdvNAubliTvBHpeJbGYX+Yyv07ah817XV4rTd+wacf4sfy6mn2cK+8kPiVsWqq8K+LrI+zzxWHTJlb8zP3pb0laVMn2npS0uoafQ4K/769Iml+L4yjL/wx+VaHcXyvuUyXbf1zSpkrmjfDXkR/2OTpJt1aynurqtGKZwPor1MlmSf8XNq25vC5/91ezP6f46xxWy3oPxXRqhfKB7wBJ6X693x3FZzzBX/boaD8LSU9Ies7//SJ53zWt5Z3ku7Blov0eCX0el0XY7uv+vuRUmB76vG8Om7bE/2ySK9mHWn0f8eLFi1ekFy0JqG8/kHRi2Ovy8JlmdqGZ/dfMiiSVyvtnnCzvJKA6S5xzld3M/HyF9yv8n738n9+Vd6IyO7ylQ95V+H3yroZK3lXKPPO6RZ1uZikV1vu+H/dcMxtrZl2iiFv6tjtKZfda/LvC+7X+zxdDE5xz2+X1oe4ped1e5F1t/rskF7ZPkvRy2D7JzNqb2VQz2yipRN6J+0x5ddK/4radcxvDtvu5v91eqtoQeSda+8KW3aRD7z+oK18pim4+ZnaimT1vZl/IO8E7IGmYIh9z1R1H35GXZP29Qrk50QYdb5zX/e3/JF1kZqGbdMdK6uxPr0qlx3UN6706I+XV+4NRlA3FckwN1v+YvO6LR8lrofiHc25PhHLRfo9UZ71zbkVVBfzP4juS/uYqvyG8tt9HAHAIkgTUt5XOuaVhr3WhGWb2A3lXf1dKGifpJHmJxA5JLSOuLejzKubtqPC+xP8ZWm+oO9MmeScr4a8U+d2J5HWPmCTpZHl9uLeb15e/lyT5+zNKUjN5VyK/8PsDD60m9lAcJZXM31nh/Tf+9iJND62rs7y/6dsi7NPEsH2SpEfldS/6o7wTrhP1bfeTinVfsS5DcVf3GR0jr2tSRZGm1YVieQlmpcyst6RFktrK+1yHyNv3hYq8P9UdR6ETz4r7FO0+lsprQYskMaxMQ3tIXuvBeP/9RHlJeZUnsqrkuK5FvVcndCxXHDktktAJdU2GY10oL7mYLK91I2JXI0X/PVKdqr7LQjrKS4wq3efD+D4CgEMwuhFi6UJ5V6l/Eprg3yzYvvJFAg5n2NDt/s/T9e3wmuG2SX6/Aq+P9gzzhiw9Q9I98pKbU/wyL8vr89/Sn/Z7ef2RezvnIp1gh2+/g+puaNed8urkT/LuoYjIb3EYLa+b0n1h04+vozhCPpd0dITpkabVhY7yP7cqnCnvRPV851xhaKLV/hkLoZO7oyWFj8IU7T5+KamLmSU5776DcKGr8vWVVFXKOfelmc2XNMHMXpN3RfzSKBYNP67DRVvv+/2fzStMr3iyHfqcu8u7B6QqHSssUy3nXJmZPSHpenmf8cuVFI3qeySaTUZRZodfrnuVK6rd9xEAHIKWBMRSig69SnqJGua4fEneP9yeFVo6Qq9NFRdwzu1wzj0paZ6kARHm7/f/QU+T13+5dxXbD3Uf6nu4OxK2/V3y+iwPlPRupP3yi7aUV8eh0XJCQ8heVlex+N6UNDq8i5Z5D+76TmULHKY+ktZVUyYUS/i+Z8prxaqNt+QdRxdUmH5hlMu/KqmFvKStorHyrhqvlw7evFyuml0Rr0roan9l63tA0nHy7svZoUO7VEVS2XEdbb1v9n9W/Ps6s8L7hfLq/WdRxNRHXvKxubqCFTws7xkdU1zYCGQVRPs9Ul1dV8s5t1ve39SPKoy8VFn5mnwfAcAhaElALC2QdL8/Osi/5XU/mKTIV+TqlHPuQ3+7M/yTlf/I+0feU14/4xnOucVm9rC8K/Rvyut+kC7vRsaXJMnMQiPDLJA3ikkXSTfKO7mr6qFxb8k7YRqsuu2j/0t5I6MsMO9BUoXyuiGdIK9h5Ebn3HbznmD8a79/+E55N4bW9RX+38u7J+VFv66T5Y3UVFjVQrXhjyJzoqR7qym6UF5/+MfN7F55V+tvU7AVIGrOudVmNlfS7X5f9Hfldfc4I8pVLJB38+7fzOxOeaMOtZV3jJ0l6Ud+a1bIaklnm9lCSV9L+tS/R6Q21smri8vNbJe8439tqO+9c+51M/tAXivCvc65/ZWvyuOc22hmn8o7rsPvy4iq3p1zW83sDUk3mdlOeVfif6QKJ7j+3+99kq43s3byTubL5SWgK51zT4UVP0nS266Gz89wzq1RNUPqRvs9IukzeZ/XODNbJe9+hY21uLJ/nbzEcomZ/T9Jn8q7eTrHOXfNYXwfAcAhaElALP1F0h3yToj+Je/E6ix5wyzWO+fcryVdKe/myXmS/inp1/K6EIS6MLwu7+TzL/ISgxvk9ecPdZFaJu+k7k5//nR5ww+e7ryHhFW27X3y9vnsOt6nd+SdoBVJul/eydkf5Q2x+J+woj+Ud5PjDHk3LG+V1/+6LmNZKW//2si7Cn27vKuar1W1XC0Nlfc5VHnDsPPGzf+RvCvdz8obkvV6eS0wtXWFpFnyhr78h7wbvw95fkUl8Th5dTRdXkvO8/66ukga45yrOJTqz+WdhD4v76b6y1VL/k3/V0vKk/eZvCOv5SDcPP9ndTcsh5urCsd1Dev9IklL5R2/MyVtlPc9UdEvJf1CXpeap+V1sTtNYYmH351pmOrxRvJovkecc2XyjpMu8rouvaNDW0ei2dZb8gYn+FzSnyW9IC9xCD2/oVbfRwAQiQUvUgFoKOY90OpFSb2cc5/GOp7GzLwnLvd3zg2LdSxHEjN7W9K+mtSrmaXJe4DZKS7GTww2s/Hyuk318LvrAACiRJIAxJCZvSLpA+fctbGOpbEys+7y+u2f7pw7nBYBSDKzFpIGyWvZu0XSWc65F2q4jpmSOjjnqn0Cdn3x77NZJu+p5n+IVRwA0FjR3QiIrUmSPvdPaFA7vSVdS4JQZ3rK6wZ0taTf1zRB8N0k6X3/acWxcoyk+ar+PhUAQAS0JAAAAAAIoCUBAAAAQABJAgAAAICAI+k5CfSbAgAAjQX3oiGu0ZIAAAAAIIAkAQAAAEAASQIAAACAAJIEAAAAAAEkCQAAAAACSBIAAAAABJAkAAAAAAggSQAAAAAQQJIAAAAAIIAkAQAAAEAASQIAAACAAJIEAAAAAAEkCQAAAAACSBIAAAAABJAkAAAAAAggSQAAAAAQQJIAAAAAIIAkAQAAAEAASQIAAACAgKRYB4DaW5ORGesQAAA4ImSuXRPrEIC4QksCAAAAgACSBAAAAAABJAkAAAAAArgnAQAANFmXbtksSUrJz5ckFRQUxC4YII7QkgAAAAAgwJxzsY6hrhwxOxItRjcCAKBuxGB0I2voDQI1QUsCAAAAgACSBAAAAAABJAkAAAAAAhjdqBG74AY+PgAA6sKKWAcAxBlaEgAAAAAEkCQAAAAACCBJAAAAABBAp3YAANBkbbxjoyQpf2a+JJ64DITQkgAAAAAggCcuN2I5j+bEOgQAAI4IKy5t8PGNeOIy4lpctiSYWZmZLTOz5Wb2npmdHOuYAAAAgKYiXu9JKHbOHSdJZnaGpDsk/U9sQwIAAACahrhsSaigraSdsQ4CAAAAaCritSUh2cyWSWop6RhJw2McT1xa8fGWWIcAxK9bi2IdAQAAjVa8Jgnh3Y2GSHrMzAa4I+guawAAACBexX13I+fcm5I6S+oS61gAAACApiDukwQzy5CUKGl7rGMBAAAAmoJ47W4UuidB8sYRvtQ5VxbLgAAAAICmIi6TBOdcYqxjABB/8mftjb5wQX70RQsKahwLAABHsrjvbgQAAACgYdkRNGDQEbMjUbu1XawjAOIXQ6ACiG8W6wCAqtCSAAAAACCAJAEAAABAAEkCAAAAgIC4HN0I0Und/0SsQ4g7m+48K9YhAAAANHq0JAAAAAAIIEkAAAAAEECSAAAAACCAexLQaBU+8dtDpuW/NfWQaTxNFwAAoGZoSQAAAAAQwBOXG7HU3z4f6xDiDqMbAQAaCZ64jLhGSwIAAACAAJIEAAAAAAEkCQAAAAACuCcBAACg4XFPAuIaLQkAAAAAAkgSAAAAAASQJAAAAAAIIEkAAAAAEECSAAAAACCAJAEAAABAAEkCAAAAgACSBAAAAAABJAkAAAAAAkgSAAAAAASQJAAAAAAIIEkAAAAAEECSAAAAACCAJAEAAABAAEkCAAAAgACSBAAAAAABJAkAAAAAAkgSAAAAAASQJAAAAAAIIEkAAAAAEECSAAAAACCAJAEAAABAAEkCAAAAgACSBAAAAAABJAkAAAAAAkgSAAAAAASQJAAAAAAIIEkAAAAAEECSAAAAACCAJAEAAABAAEkCAAAAgACSBAAAAAABJAkAAAAAAkgSAAAAAASQJAAAAAAIIEkAAAAAEECSAAAAACCAJAEAAABAAEkCAAAAgACSBAAAAAABSbEOALW3JiMz1iEAAHBEyFy7JtYhAHGFlgQAAAAAASQJAAAAAAJIEgAAAAAEcE8CAABosi7dslmSlJKfL0kqKCiIXTBAHKElAQAAAECAOediHUNdOWJ2JFqMbgQAQN2IwehG1tAbBGqClgQAAAAAASQJAAAAAAJIEgAAAAAEcE9CI5bzaE6sQwAAoNFbcemKWGyWexIQ12hJAAAAABBAkgAAAAAggCQBAAAAQABPXAYAAE3Sxjs2SpLyZ+YfnMYTlwEPLQkAAAAAAhjdqBFjdCMAAA4foxsBh6r3lgQzKzOzZWa20sz+ZWbt/empZlbsz1ttZn8xs4Sw5a41s/1m1q6+YwQAAADwrYboblTsnDvOOTdA0g5JPw+bt8E5d5ykgZKyJH0/bN44Se9IOrcBYgQAAADga+h7Et6U1L3iROdcqaQlkvpLkpn1k9Ra0s3ykgUAAAAADaTBRjcys0RJp0t6OMK8FH/e7/xJF0qaI2mxpHQzO9o590VDxdpYrPh4S6xDAOLTrUWxjgAAgEatIVoSks1smaRCSUdLWhg2r58/7w1Jzzvn/u1PHydpjnOuXNJ8Sec3QJwAAAAA1DAtCcXOueP81oIX5d2TcJ8/L3RPwkFmliPpWEkLzUySmkv6WNL9DRArAAAA0OQ12D0Jzrl9kq6WdJ2ZVZWcjJN0q3Mu1X91k9TNzHo3SKAAAABAE9egT1x2zr1vZh/ISwQWV1LsQklnVpj2D3/6XfUYHoA4lj9rb/SFC/KjL8rTVQEAOES9JwnOudYV3p8d9nZAhPJ9I0ybXA+hAQAAAIiAJy43ZrfynDkgIkY3AhD/eOIy4lpDPycBAAAAQJwjSQAAAAAQQJIAAAAAIKBBRzdC3Urd/0SsQ6gXm+48K9YhAAAANGm0JAAAAAAIIEkAAAAAEEB3IwAAgCbu3XffPSopKekhec+w4iLyka9c0srS0tIr8vLyvoxUgCQBMVf4xG8D7/PfmnpIGZ6KCwBA/UlKSnqoa9eumV26dNmZkJDQ9J491cSUl5fbV199lVVYWPiQpDGRypApAgAAYECXLl12kSA0DQkJCa5Lly5F8lqOIqIlATHX9aI7A+8LGN0IAICGlkCC0LT4n3elDQa0JAAAAAAIoCUBAAAAAam/fT6vLte36c6z3q3L9aH+0ZIAAAAAVPDcc8+1GTZsWH9Jmj17drsbb7yxqyR99tlnSQMHDszIzMzMWrBgQetHHnmkQ9++fbNPOumktNhGXLeibkkws5MlpYYv45x7rB5iQpR4MjEAAED9Gz9+fJGkIslLHjIzM4vnzp27WZKGDh167IwZMzafccYZe2IaZB2LqiXBzP4maZqkUyWd6L9OqMe4AAAA0ISsW7eueZ8+fbLHjh2bmpqaOmDMmDF9/vnPf7YZNGhQRu/evQe8+uqrKbt27Uo4//zzU3NycjIzMzOzHn/88fahZfPy8tKzsrIys7KyMhcuXNhK8k7oBw8enD5q1Ki+ffr0yR4zZkyf8vLySmOYN29e2z59+mRnZWVlzps3r31o+n333dfpkksu6bVkyZLkW265pcdLL73UPiMjI+u666475t133209YcKE1AkTJvSItM6lS5e2zMnJyczIyMhKS0vLWrFiRQtJeuCBBzqGpl900UW9S0tL9eGHHzbv3bv3gM8//zyprKxMeXl56U8//XTbOq3oKEXbknCCpCznHHe9AwAAoF5s3bq15dy5czfm5eVtGjhwYObs2bM7LV26dO0TTzzR/vbbbz8mIyNj/7Bhw3Y99dRTm7Zt25Z4wgknZI4ZM2ZXt27dShcvXvxhSkqKW7FiRYtx48b1Xbly5RpJWrNmTfKyZcs2pqamHsjLy8tYuHBh60hX/fft22eTJk1KXbhw4brs7OyS0aNH961Y5uSTTy6+4YYbPlu6dGmrxx57bIskLV68uO20adO2nnbaafsi7dP06dO7XHXVVV9ceeWVO/bv32+lpaV67733Ws6bN6/j0qVL17Zo0cJdfPHFvf7yl790mjRp0vZrrrmm8Cc/+UmvE044YW96evr+c889d1dd13M0ok0SVkrqKunzeowFAAAATVj37t1LBg8eXCxJaWlpxcOHD9+VkJCgQYMG7ZsyZUq3wsLC5i+++GL7++67r6sklZSU2Pr165v37t37wOWXX9579erVyQkJCdq8eXOL0DpzcnL29uvX74AkZWdn79uwYUPzSNtetmxZyx49epTk5OSUSNL48eO3P/TQQ10Od5+GDBmyd9q0acd88sknzS+88MKdOTk5JQsWLGizcuXKlNzc3ExJ2r9/f8JRRx1VKkmTJ0/e9vTTT3eYNWtWlw8++GD14W6/tqJNEjpLWm1m/5VUEpronIv4hDYAAACgppo3b36w10pCQoJatmzpJCkxMVFlZWWWmJjo5s2btz43N7ckfLnJkyd3O+qoow7Mnz//4/LyciUnJx8cnalFixYH15mYmKjS0lJriH0JmThx4o6hQ4fu/cc//tFu9OjRx06fPn2zc87OP//87X/+858/rVh+9+7dCYWFhc0ladeuXYkdOnSovH9UPYo2Sbi1PoMAAABA/IjXIUuHDRu265577jl61qxZWxISEvTGG28kn3LKKcVFRUWJPXr0+CYxMVH3339/p7Kyshqv+7jjjtv/6aefNl+1alWL7Ozskjlz5nSsi5hXr17dPDMzsyQ7O/vLLVu2NF+2bFnyWWedtevcc8/tf+ONN37RvXv30i+++CKxqKgoMS0t7ZtJkyZ1P++887b37t37m8suu6z3q6++ur4u4qipqG5cds69JmmtpDb+a40/DQAAAGgQd95552elpaWWkZGR1b9//+ybb765uyRde+21Xz755JOd0tPTs9auXdsyOTm5xlffU1JS3PTp0zePHj26f1ZWVmbnzp1L6yLmxx9/vGNaWlp2RkZG1po1a5InTJiwPS8vb//NN9/86emnn56WlpaWNXz48LStW7c2e/7551svW7as1ZQpUwqvvPLKHc2aNXN/+tOfOtVFHDVl0dyLbGYXSJoqqUCSSRoq6Xrn3Lx6ja5muKkaAAA0Fg3a5aU6y5cv35Sbm7st1nGgYS1fvrxzbm5uaqR50XY3uknSic65LyXJzLpIWiQpnpIEAAAAAHUg2iQhIZQg+LaLpzUDAACgERo5cmS/rVu3tgifdvvtt38yduzYWg83On/+/LY33XRT4FkJPXv2LFm4cOGG2q4zlqLtbjRV0kBJT/qTfijpA+fcb+oxtpqiuxEAAGgs6G6EmDvs7kbOuevNbKykU/xJDzrn/lFH8QEAAACII9F2N5Jzbr6k+fUYCwAAAIA4UGWSYGavO+dONbPdCnbnMUnOOde2XqMDAAAA0OCqTBKcc6f6P9s0TDgAAACIuVvb5VVfqCbrK4rLh7NV5bnnnmtzzz33HP3qq6+unz17drtVq1Yl/+EPfyj87LPPkkaNGtX/wIEDCffee++Wzz77rNmUKVO6denS5cDbb7/9YaR1nX322X3WrVuXPH78+G233HLLl5HKRCs8lsNZT3Wi6m5kZn9zzv2oumkAAADAkWb8+PFFkookL3nIzMwsnjt37mZJGjp06LEzZszYfMYZZ+yJtOyWLVuSli9f3mrLli0ro93egQMH1KxZs2pjqU/RDmOaHf7GzJIk1W2GCQAAgCZr3bp1zfv06ZM9duzY1NTU1AFjxozp889//rPNoEGDMnr37j3g1VdfTdm1a1fC+eefn5qTk5OZmZmZ9fjjj7cPLZuXl5eelZWVmZWVlblw4cJWkndCP3jw4PRRo0b17dOnT/aYMWP6lJdX/jDmefPmte3Tp092VlZW5rx589qHpt93332dLrnkkl5LlixJvuWWW3q89NJL7TMyMrKuu+66Y959993WEyZMSJ0wYUKPSOscMWJE2pdfftk8IyMja8GCBa2XLFmSnJubm5GWlpY1cuTIfl999VWiJA0ePDj9Jz/5Sc8BAwZkTpky5ejPPvss6Ywzzug3YMCAzAEDBmS+9NJLrcJjkaRVq1a1CK3r6quv7paSknJ8bfY7kuruSbhB0o2Sks0sNG6sSfpG0oM12hIAAABQha1bt7acO3fuxry8vE0DBw7MnD17dqelS5eufeKJJ9rffvvtx2RkZOwfNmzYrqeeemrTtm3bEk844YTMMWPG7OrWrVvp4sWLP0xJSXErVqxoMW7cuL4rV65cI0lr1qxJXrZs2cbU1NQDeXl5GQsXLmwd6ar/vn37bNKkSakLFy5cl52dXTJ69Oi+FcucfPLJxTfccMNnS5cubfXYY49tkaTFixe3nTZt2tbTTjttX6R9+te//rV+9OjRx65du3a1JKWlpWXde++9W84666w9114OWPKwAAAaI0lEQVR7bbff/OY33R555JGtkvTNN99YKO6zzz67z+TJk78444wz9nz00UfNzzjjjGM3bty4KnzdkyZN6nnVVVd9OWHChB133313l/B50e53Zaq7J+EOSXeY2R3OuRuiXSkAAABQU927dy8ZPHhwsSSlpaUVDx8+fFdCQoIGDRq0b8qUKd0KCwubv/jii+3vu+++rpJUUlJi69evb967d+8Dl19+ee/Vq1cnJyQkaPPmzQcflJaTk7O3X79+ByQpOzt734YNG5pH2vayZcta9ujRoyQnJ6dEksaPH7/9oYce6hKpbG1t3749cffu3YlnnXXWHkn66U9/uv38888/mIyMGzduR+j3N954o+1HH32UHHq/Z8+exKKiokAvoPfff7/1Sy+9tF6Srrjiiu233nrrwdaMaPe7MtW1JGQ459ZKesrMBlWc75x7ryYbAwAAACrTvHnzg6NpJiQkqGXLlk6SEhMTVVZWZomJiW7evHnrc3NzS8KXmzx5crejjjrqwPz58z8uLy9XcnLywW7xLVq0OLjOxMRElZaWxtWD7MK1adPmYJ8g55zee++9NSkpKbV6YPDh7nd19yRc5/+8J8JrWk02BAAAAByOYcOG7brnnnuODvWvf+ONN5IlqaioKPGYY445kJiYqAceeKBTWVlZjdd93HHH7f/000+br1q1qoUkzZkzp2Ndxi5JnTp1Kmvbtm3ZggULWkvSww8/3GnIkCERuwCdeuqpu+64446jQu+XLFmSXLHMcccdt2fWrFkdJOmRRx6p03ir6270U//nsLrcKAAAAOJYnA5Zeuedd372s5/9rFdGRkZWeXm59ezZs+TVV19df+211345duzYfnPmzOk0fPjwouTk5JrdpSspJSXFTZ8+ffPo0aP7Jycnl5900kl79uzZk1jX+zBz5syPr7zyyt5XX311Qq9evUqefPLJTZHKPfjgg1uvuOKKXmlpaVllZWV20kkn7T755JO3hJeZPn361vHjx/eZOnXqMcOHD9/VunXrmmdHlTDnKm/BMLNzq1rYOfd0XQVSB2rVFAMAABADcdXlZfny5Ztyc3O3xToO1Mzu3bsTWrVqVZ6QkKAHH3yww9y5czu+/PLLG6Jdfvny5Z1zc3NTI82r7jkJZ/s/j5J0sqRX/PfDJC2RFE9JAgAAANBkvPHGGynXXHNNL+ec2rZtWzZr1qxNdbXu6rob/ViSzOwlSVnOuc/998dImlVXQQAAAAANZeTIkf22bt3aInza7bff/snYsWN3VbZMdebPn9/2pptuCjwroWfPniULFy6M+sp+TY0aNWrPunXrVtfHuqvsbnSwkNka51xm2PsESavCp8UBuhsBAIDGgu5GiLnD6W4U8rKZvSjpSf/9DyUtqoPYAAAAAMSZqJIE59wk/ybmof6kB51z/6i/sAAAAADESrQtCaGRjLhRGQAAADjCVfcwNUneUKhm9pGZFZnZLjPbbWa1vrEDAAAAQPyKtiXhbklnO+fW1GcwAAAAiL2cR3Py6nJ9Ky5dEZcPZ0PlompJkPQFCQIAAADQNESbJCw1s7lmNs7venRudU9jBgAAAKI1YsSIftnZ2Zn9+/fPnjZtWmdJSklJOT40f+bMmR3Gjh2bKklbt25NGjlyZL/09PSs9PT0rIULF7aKtM5du3Yl5Ofn909PT8869thjs//61792kKTFixennHjiienZ2dmZp5566rGbN29uduDAAQ0YMCDzueeeayNJP//5z7v/4he/6F7vOx6nou1u1FbSPknfDZvmxI3MAAAAqAOzZ8/edPTRR5ft2bPHjj/++KyLL754Z2VlJ06c2Gvo0KG7f/e7320oLS1VUVFRYqRyTz/9dNuuXbseKCgoWC9J27dvTywpKbGrr7661/PPP7++W7dupX/96187/OpXv+r+1FNPbZo1a9bHF1xwQb/S0tItr7zySrv333+/yfakiXYI1B/XdyAAAABouu66666jn3/++faSVFhY2GzVqlUtKyu7ZMmSNvPmzftYkpKSktSpU6eySOUGDRpUfNNNN/W88soru59zzjlFo0aN2vPOO++0/Oijj5KHDx+eJknl5eXq0qXLAUk64YQT9l9wwQXbf/jDHx77yiuvrGnZsmWTfVhvVEmCmfWQNF3SKf6kxZKucc59Ul+BAQAAoGl47rnn2rz22mttli5durZNmzblgwcPTi8uLk4w+/bB1MXFxTV+SvXAgQNL3nvvvdXz589v97//+7/dFy1atOuCCy74un///sXLli1bG2mZVatWJbdp06assLCwmaTi2u9V4xbtPQkzJT0rqZv/+pc/DQAAADgsX3/9dWK7du3K2rRpU/7++++3XL58eStJ6tSp04H33nuvZVlZmZ555pkOofKnnHLK7qlTp3aRpNLSUm3fvj1id6NNmzY1a9OmTflVV121Y/LkyYXLli1LGThw4P4dO3YkLVq0qJUklZSU2NKlS1tK0qOPPtp+586dSa+88sra6667rte2bdsirrcpiPaehC7OufCkYJaZXVsfAQEAACC2GnrI0rFjxxY9+OCDXfr27Zvdt2/f/bm5uXsl6bbbbvv0nHPO6d+xY8fS3NzcfXv37k2QpBkzZmy57LLLeqelpXVOSEjQ/fffv3nEiBF7K6733XffTb7hhht6JCQkKCkpyT3wwAObW7Zs6ebMmbPh6quv7rV79+7EsrIyu/LKK7/o3r176S233NJj0aJF6/r373/giiuu+PJnP/tZz6effnpTQ9ZFvDDnqu9qZWYvy2s5eNKfNE7Sj51zp9djbDXVZPuMAQCARqfGXWfq0/Llyzfl5uZui3UcaFjLly/vnJubmxppXrTdjX4i6QJJhZI+l3SepMvqIjgAAAAA8SXa7kb/n6RLnXM7JcnMOkqaJi95AAAAAGKmsLAwMT8/P73i9IKCgnVdu3aNOPIRqhZtkjAwlCBIknNuh5kdX9UCqH9rMjJjHQIAAMpc22SHkkec6Nq1a9natWtXxzqOI0m03Y0SzOzgHeV+S0K0CQYAAACARiTaE/17JL1pZk/578+XdHv9hAQAAAAglqJ94vJjZrZU0nB/0rnOOZp0AAAAgCNQ1F2G/KSAxAAAAOjSLZsP/p6Sn3/w94KCgoYPBkCd474CAAAABKzJyMyry/Vlrl3ToA9nCzdlypSjHnnkkS4DBgzY9+yzz358OOvatGlTs4kTJ/ZcsGDBxrqKL16RJAAAgBp7tFfvg79n0nqAOPbwww93WbRo0Yf9+vU7EE35AwcOqFmzZhHnpaamHmgKCYIU/ehGAAAAQL0ZMWJEv+zs7Mz+/ftnT5s2rbMkpaSkHBxyf+bMmR3Gjh2bKklbt25NGjlyZL/09PSs9PT0rIULF7aKtM6LLrqo1yeffNLie9/73rG33XbbUV988UXiiBEj+qWlpWXl5uZmvP3228mSNHny5G7f//73+wwaNCjj3HPP7VNaWqoJEyb0GDBgQGZaWlrW1KlTO0vSunXrmh977LHZkrR79+6EM888s2+/fv2yR44c2W/gwIEZ//nPf1JCcf/iF7/onp6enpWbm5uxdevWRndhvtEFDAAAgCPP7NmzNx199NFle/bsseOPPz7r4osv3llZ2YkTJ/YaOnTo7t/97ncbSktLVVRUlBip3BNPPLHltddea/faa699eMwxx5ReeumlPXNzc/ctWrRow7PPPtvm0ksv7RN6vsJHH33U8u23317bunVrN23atM7t2rUrW7ly5Zri4mI78cQTM84+++xdZnZw3VOnTu3Svn37sg0bNqx65513Wg4ZMiQ7NK+4uDhhyJAhe6ZPn/7pxIkTe0yfPr3L3Xff/XkdVle9oyUBAAAAMXfXXXcdnZ6enpWXl5dZWFjYbNWqVS0rK7tkyZI2119//VeSlJSUpE6dOkX1VOX//ve/bS6//PLtkjRmzJjdX3/9ddKOHTsSJGnUqFFft27d2knSokWL2v7973/vlJGRkXX88cdn7ty5M2n16tWBeJYsWdJ63LhxOyTpxBNP3J+WlrYvNK9Zs2buwgsvLJKkvLy8vZs3b25es9qIPVoSGrELbuDjAwDE3opYB4BG77nnnmvz2muvtVm6dOnaNm3alA8ePDi9uLg4IfzKfXFxsVWxisPWqlWr8tDvzjm75557towdO3ZXeJl169ZFdbKflJTkEhISQr+rtLS0XmOvD7QkAAAAIKa+/vrrxHbt2pW1adOm/P3332+5fPnyVpLUqVOnA++9917LsrIyPfPMMx1C5U855ZTdU6dO7SJJpaWl2r59e8TuRhWddNJJu2fOnNlJ8hKTDh06lHbs2LG8YrmRI0cWzZgxo0tJSYlJ0gcffNBi165dgfPmIUOG7JkzZ04HSXr33Xdbfvjhh8m13f94xKVoAAAABDT0kKVjx44tevDBB7v07ds3u2/fvvtzc3P3StJtt9326TnnnNO/Y8eOpbm5ufv27t2bIEkzZszYctlll/VOS0vrnJCQoPvvv3/ziBEj9la3nbvuuuuz8ePHp6alpWUlJyeXz5o1K+KQqL/85S+3bdq0qUVOTk6mc846dux44IUXXtgQXub666//6oILLkjt169fdr9+/fb3799/f4cOHaLq9tQYmHMu1jHUlSNmR6KV82hOrEMAAEArLqXDUS3EVfeT5cuXb8rNzd0W6zgak9LSUn3zzTeWkpLiVq1a1eK73/1u2oYNG1a2bNmy0ZyTLl++vHNubm5qpHm0JAAAgBrbeMe3Q8Xnz8w/+DtPXEZTsXv37oShQ4emHzhwwJxzuvfeezc3pgShOiQJAAAAaNQKCwsT8/Pz0ytOLygoWNe1a9d66QLUoUOH8pUrV66pj3XHA5IEAABQY31v6Hvw94JLC2IXCCCpa9euZaHnHaBu1NvoRmZWZmbLzGylmf3LzNqHzcs2s1fMbJ2ZfWRm/2thY1yZ2ffMbKmZrTaz983snvqKEwAAACovLy+Pq/skUL/8z/uQkZ1C6nMI1GLn3HHOuQGSdkj6uSSZWbKkZyXd6ZxLl5Qr6WRJV/nzB0i6X9LFzrksSSdIWl+PcQIAADR1K7/66qt2JApNQ3l5uX311VftJK2srExDdTd6U9JA//eLJL3hnHtJkpxz+8xskqQCSX+W9GtJtzvn1vrzyyTNaKA4AQAAmpzS0tIrCgsLHyosLBwgnqPVFJRLWllaWnpFZQXqPUkws0RJp0t62J+ULSkw9q5zboOZtTaztpIGSKJ7URRWfLwl1iHUzK1FsY4AAABEkJeX96WkMbGOA/GjPjPFZDNbJqlQ0tGSFtbjtgAAAADUkXq/J0FSb3kPDPm5P321pLzwgmbWV9Ie59wuSasqzgcAAADQcOq9z5lzbp+kqyVdZ2ZJkmZLOtXMRkgHb2S+T9Ld/iJTJd1oZmn+/AQzm1jfcQIAAADwNMiNKc659yV9IGmcc65Y0jmSbjazdZJWSHpH3ohGcs59IOlaSU+a2Rp5d133jbhiAAAAAHXOnDtinh59xOxI1G5tF5PN5s/aW7sFU0+t1WIFBQW12x4AAPGLoUYR1xjiCgAAAEAALQmNWYxaEmqNIVABAAihJQFxjZYEAAAAAAEkCQAAAAACSBIAAAAABCTFOoDGLvW3z8ds25vupI8/AAAA6h4tCQAAAAACSBIAAAAABJAkAAAAAAjgnoQayM/PP2Ra4cbth0zretGdDRANAAAAUD9oSQAAAAAQQEtCDRQUFBwyLZajGwEAAAD1gZYEAAAAAAEkCQAAAAACSBIAAAAABJhzLtYx1JUjZkcAAMARz2IdAFAVWhIAAAAABJAkAAAAAAggSQAAAAAQQJIAAAAAIIAkAQAAAEAASQIAAACAAJIEAAAAAAEkCQAAAAACSBIAAAAABJAkAAAAAAggSQAAAAAQQJIAAAAAIIAkAQAAAEAASQIAAACAAJIEAAAAAAEkCQAAAAACSBIAAAAABJAkAAAAAAggSQAAAAAQQJIAAAAAIIAkAQAAAEAASQIAAACAAJIEAAAAAAEkCQAAAAACSBIAAAAABJAkAAAAAAggSQAAAAAQQJIAAAAAIIAkAQAAAEAASQIAAACAAJIEAAAAAAEkCQAAAAACSBIAAAAABJAkAAAAAAggSQAAAAAQQJIAAAAAIIAkAQAAAEAASQIAAACAAJIEAAAAAAEkCQAAAAACkmIdAGpvTUZmrEMAAKDRyly7JtYhAHGLlgQAAAAAASQJAAAAAAJIEgAAAAAEcE8CAABoUi7dslmSlJKfL0kqKCiIXTBAnKIlAQAAAECAOediHUNdOWJ2JFqMbgQAQO3FeHQji+XGgerQkgAAAAAggCQBAAAAQABJAgAAAIAA7kloxHIezYl1CAAANEorLl0R6xC4JwFxjZYEAAAAAAEkCQAAAAACSBIAAAAABPDEZQAA0CRsvGPjwd/zZ+ZL4mnLQGVoSQAAAAAQwOhGjRijGwEAUDuMbgRUrUFaEszs+2bmzCwjbFqamb1gZh+Z2Xtm9nczO9rM8s2syMyW+a9FDREjAAAAAE9D3ZMwTtLr/s9bzKylpOclTXbO/UuSzCxfUhe//GLn3OgGig0AAABAmHpvSTCz1pJOlXS5pAv9yRdJejOUIEiSc67AObeyvuMBAAAAULWGaEk4R9IC59yHZrbdzPIkDZD0bhXLDDWzZf7vTznnbq/3KBuhFR9viXUIdefWolhHAAAAAF9DJAnjJP3J/32O/746dDcCAAAAYqRekwQz6yhpuKQcM3OSEuWNQnSbpP+pz20DAAAAqJ36vifhPEl/c871ds6lOud6SvpY0npJJ5vZWaGCZnaamQ2o53gAAAAAVKO+uxuNk3RXhWnz5d3APFrSH83sj5IOSPpA0jWSOtdzTKgj+bP21t3KCvLrblU8PRMAAOCw1GuS4JwbFmHafWFvR0VY7AtJBfUVEwAAAICq8cTlxuzWdrGOoO4wuhEAoGnhicuIaw3yxGUAAAAAjQdJAgAAAIAAkgQAAAAAAQ3xMDXUk9T9T9TbujfdeVb1hQAAAHBEoiUBAAAAQABJAgAAAIAAkgQAAAAAAdyT0MQVPvHbiNPz35oacTpPMwYAADjy0ZIAAAAAIIAnLjdiqb99vt7WzehGAADUK564jLhGSwIAAACAAJIEAAAAAAEkCQAAAAACuCcBAACg4XFPAuIaLQkAAAAAAkgSAAAAAASQJAAAAAAIIEkAAAAAEECSAAAAACCAJAEAAABAAEkCAAAAgACSBAAAAAABJAkAAAAAAkgSAAAAAASQJAAAAAAIIEkAAAAAEECSAAAAACCAJAEAAABAAEkCAAAAgACSBAAAAAABJAkAAAAAAkgSAAAAAASQJAAAAAAIIEkAAAAAEGDOuVjHUCfMbIGkzrGOo4F1lrQt1kE0EtRVzVBfNUN91Qz1VTPUV/QaU11tc86NinUQQGWOmCShKTKzpc65E2IdR2NAXdUM9VUz1FfNUF81Q31Fj7oC6g7djQAAAAAEkCQAAAAACCBJaNwejHUAjQh1VTPUV81QXzVDfdUM9RU96gqoI9yTAAAAACCAlgQAAAAAASQJcc7MRpnZOjNbb2a/jTDfzOw+f/4HZjYoFnHGiyjqK8PM3jSzEjP7VSxijCdR1Nd4/7haYWZLzCw3FnHGiyjq6xy/vpaZ2VIzOzUWccaD6uoqrNyJZlZqZuc1ZHzxJopjK9/Mivxja5mZ/S4WccaLaI4vv86WmdkqM3utoWMEGju6G8UxM0uU9KGkkZI+kfSOpHHOudVhZc6U9AtJZ0o6SdKfnHMnxSDcmIuyvo6S1FvS9yXtdM5Ni0Ws8SDK+jpZ0hrn3E4z+56kWzm+qqyv1pL2OuecmQ2U9HfnXEZMAo6haOoqrNxCSfslPeKcm9fQscaDKI+tfEm/cs6NjkmQcSTK+movaYmkUc65LWZ2lHPuy5gEDDRStCTEt8GS1jvnNjrnvpE0R9I5FcqcI+kx53lLUnszO6ahA40T1daXc+5L59w7kg7EIsA4E019LXHO7fTfviWpRwPHGE+iqa897tsrL60kNdWrMNF8d0neBY75kpr6yVu09QVPNPV1kaSnnXNbJO+7v4FjBBo9koT41l3S1rD3n/jTalqmqaAuaqam9XW5pH/Xa0TxLar6MrMfmNlaSc9L+kkDxRZvqq0rM+su6QeSZjRgXPEq2r/Fk/3ubP82s+yGCS0uRVNfaZI6mFmBmb1rZpc0WHTAESIp1gEAiH9mNkxektBk+9hHyzn3D0n/MLPTJP1e0ogYhxSv/ijpN865cjOLdSyNwXuSejnn9vjdTP8p6dgYxxTPkiTlSTpdUrKkN83sLefch7ENC2g8SBLi26eSeoa97+FPq2mZpoK6qJmo6svvW/+QpO8557Y3UGzxqEbHl3PuP2bW18w6O+e21Xt08SWaujpB0hw/Qegs6UwzK3XO/bNhQowr1daXc25X2O8vmNkDTfTYkqI7vj6RtN05t1fSXjP7j6RcefcyAIgC3Y3i2zuSjjWzPmbWXNKFkp6tUOZZSZf4oxx9R1KRc+7zhg40TkRTX/hWtfVlZr0kPS3pR1yBi6q++pt/1uuPNNZCUlNMrKqtK+dcH+dcqnMuVdI8SVc10QRBiu7Y6hp2bA2W9/+7KR5bUnTf9c9IOtXMkswsRd7AHmsaOE6gUaMlIY4550rNbJKkFyUlyhv9Y5WZTfTn/0XSC/JGNlovaZ+kH8cq3liLpr7MrKukpZLaSio3s2slZYVfpWsqojy+fiepk6QH/POTUufcCbGKOZairK+x8pL2A5KKJf0w7EbmJiPKuoIvyvo6T9KVZlYq79i6sCkeW1J09eWcW2NmCyR9IKlc0kPOuZWxixpofBgCFQAAAEAA3Y0AAAAABJAkAAAAAAggSQAAAAAQQJIAAAAAIIAkAQAAAEAASQIAAACAAJIEAAAAAAEkCQAAAAAC/n/aehcCfzg9IgAAAABJRU5ErkJggg==)"
      ]
    },
    {
      "cell_type": "markdown",
      "metadata": {
        "id": "38TFWui8eEGW"
      },
      "source": [
        "![table.PNG](data:image/png;base64,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)"
      ]
    },
    {
      "cell_type": "markdown",
      "metadata": {
        "id": "CPRx0y-2eJIc"
      },
      "source": [
        "**Interpreting the results in the de-biasing experiment**\n",
        "\n",
        "In the plot above, we can see a few things:\n",
        "\n",
        "\n",
        "1. In the reject-option classification (ROC) condition, the mean difference for sex is less roughly 13% than the baseline (B), and the mean different for foreign is less roghly 20% than baseline (B). This means that the prediction made by ROC reduce potential discrimination, but the auc for sex is decreased 5%.\n",
        "\n",
        "\n",
        "\n",
        "\n",
        "> In the case of ROC, it's possible to get a negative mean difference. Here, the mean difference get -4%, and it means that we're actually now slightly prefering women over than men.\n",
        "\n",
        "\n",
        "\n",
        "\n",
        "2. In the additive counterfactually fair (ACF) model, the mean difference for sex is less roughly 6% than the baseline (B), and the mean difference for foreign is less 19% than the baseline (B). The mean for both attributes sex and foreign are maintained at 60%. The auc values for ACF is almost same with the baseline models.\n",
        "\n",
        "\n",
        "Reject-Option Classification and Additive Counterfactually Fair Model can reduce potential discrimination in the predictions. However, the Reject-Option Classification would influence the auc values."
      ]
    },
    {
      "cell_type": "markdown",
      "metadata": {
        "id": "65BrfCyX_GZX"
      },
      "source": [
        "# **Reference**\n",
        "\n",
        "Bantilan, N. (2017). A fairness-aware machine learning library — themis-ml 0.0.2 documentation. Themis-Ml. https://themis-ml.readthedocs.io/en/latest/index.html\n",
        "\n",
        "\n",
        "C. (2018, July 31). cosmicBboy/themis-ml. GitHub. https://github.com/cosmicBboy/themis-ml\n",
        "\n",
        "\n",
        "\n",
        "S. (2020, December 10). Mean Difference / Difference in Means (MD). Statistics How To. https://www.statisticshowto.com/mean-difference/"
      ]
    }
  ]
}